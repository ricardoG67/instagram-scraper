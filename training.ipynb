{
 "nbformat": 4,
 "nbformat_minor": 2,
 "metadata": {
  "language_info": {
   "name": "python",
   "codemirror_mode": {
    "name": "ipython",
    "version": 3
   },
   "version": "3.7.3-final"
  },
  "orig_nbformat": 2,
  "file_extension": ".py",
  "mimetype": "text/x-python",
  "name": "python",
  "npconvert_exporter": "python",
  "pygments_lexer": "ipython3",
  "version": 3,
  "kernelspec": {
   "name": "python37364bitbasecondae44acf9070e249dcb8f20e7ff5b8be39",
   "display_name": "Python 3.7.3 64-bit ('base': conda)"
  }
 },
 "cells": [
  {
   "cell_type": "markdown",
   "metadata": {},
   "source": [
    "# Prediciendo lo scrapeado"
   ]
  },
  {
   "cell_type": "code",
   "execution_count": 2,
   "metadata": {},
   "outputs": [],
   "source": [
    "import cv2 as cv\n",
    "import re\n",
    "import glob\n",
    "import pandas as pd\n",
    "from sklearn.preprocessing import StandardScaler\n",
    "from sklearn.model_selection import train_test_split\n",
    "from sklearn.model_selection import cross_val_score\n",
    "import urllib.request\n",
    "import numpy as np"
   ]
  },
  {
   "cell_type": "code",
   "execution_count": 3,
   "metadata": {},
   "outputs": [],
   "source": [
    "def extractor():\n",
    "    img_original = cv.imread(\"prueba.jpg\")\n",
    "    vertical = (img_original.shape)[0]\n",
    "    vertical = int(vertical)\n",
    "\n",
    "    horizontal = (img_original.shape)[1]\n",
    "    horizontal = int(horizontal)\n",
    "\n",
    "    #Puntos\n",
    "    vertical_p1 = vertical/5\n",
    "    vertical_p2 = (2*vertical)/5\n",
    "    vertical_p3 = (3*vertical)/5\n",
    "    vertical_p4 = (4*vertical)/5\n",
    "\n",
    "\n",
    "    horizontal_p1 = (horizontal)/5\n",
    "    horizontal_p2 = (2*horizontal)/5\n",
    "    horizontal_p3 = (3*horizontal)/5\n",
    "    horizontal_p4 = (4*horizontal)/5\n",
    "\n",
    "\n",
    "    #Cuadrante1:\n",
    "    cuadrante_1 = img_original[0:int(vertical_p1), 0:int(horizontal_p1)]\n",
    "\n",
    "    #Cuadrante2:\n",
    "    cuadrante_2 = img_original[0:int(vertical_p1), int(horizontal_p1):int(horizontal_p2)]\n",
    "\n",
    "    #Cuadrante3:\n",
    "    cuadrante_3 = img_original[0:int(vertical_p1), int(horizontal_p2):int(horizontal_p3)]\n",
    "\n",
    "    #Cuadrante4:\n",
    "    cuadrante_4 = img_original[0:int(vertical_p1), int(horizontal_p3):int(horizontal_p4)]\n",
    "\n",
    "    #Cuadrante5:\n",
    "    cuadrante_5 = img_original[0:int(vertical_p1), int(horizontal_p4):int(horizontal)]\n",
    "\n",
    "\n",
    "    #########\n",
    "\n",
    "    #Cuadrante6:\n",
    "    cuadrante_6 = img_original[int(vertical_p1):int(vertical_p2), 0:int(horizontal_p1)]\n",
    "\n",
    "    #Cuadrante7:\n",
    "    cuadrante_7 = img_original[int(vertical_p1):int(vertical_p2), int(horizontal_p1):int(horizontal_p2)]\n",
    "\n",
    "    #Cuadrante8:\n",
    "    cuadrante_8 = img_original[int(vertical_p1):int(vertical_p2), int(horizontal_p2):int(horizontal_p3)]\n",
    "\n",
    "    #Cuadrante9:\n",
    "    cuadrante_9 = img_original[int(vertical_p1):int(vertical_p2), int(horizontal_p3):int(horizontal_p4)]\n",
    "\n",
    "    #Cuadrante10:\n",
    "    cuadrante_10 = img_original[int(vertical_p1):int(vertical_p2), int(horizontal_p4):int(horizontal)]\n",
    "\n",
    "    #########\n",
    "\n",
    "    #Cuadrante11:\n",
    "    cuadrante_11 = img_original[int(vertical_p2):int(vertical_p3), 0:int(horizontal_p1)]\n",
    "\n",
    "    #Cuadrante12:\n",
    "    cuadrante_12 = img_original[int(vertical_p2):int(vertical_p3), int(horizontal_p1):int(horizontal_p2)]\n",
    "\n",
    "    #Cuadrante13:\n",
    "    cuadrante_13 = img_original[int(vertical_p2):int(vertical_p3), int(horizontal_p2):int(horizontal_p3)]\n",
    "\n",
    "    #Cuadrante14:\n",
    "    cuadrante_14 = img_original[int(vertical_p2):int(vertical_p3), int(horizontal_p3):int(horizontal_p4)]\n",
    "\n",
    "    #Cuadrante15:\n",
    "    cuadrante_15 = img_original[int(vertical_p2):int(vertical_p3), int(horizontal_p4):int(horizontal)]\n",
    "\n",
    "    #########\n",
    "\n",
    "    #Cuadrante16:\n",
    "    cuadrante_16 = img_original[int(vertical_p3):int(vertical_p4), 0:int(horizontal_p1)]\n",
    "\n",
    "    #Cuadrante17:\n",
    "    cuadrante_17 = img_original[int(vertical_p3):int(vertical_p4), int(horizontal_p1):int(horizontal_p2)]\n",
    "\n",
    "    #Cuadrante18:\n",
    "    cuadrante_18 = img_original[int(vertical_p3):int(vertical_p4), int(horizontal_p2):int(horizontal_p3)]\n",
    "\n",
    "    #Cuadrante19:\n",
    "    cuadrante_19 = img_original[int(vertical_p3):int(vertical_p4), int(horizontal_p3):int(horizontal_p4)]\n",
    "\n",
    "    #Cuadrante20:\n",
    "    cuadrante_20 = img_original[int(vertical_p3):int(vertical_p4), int(horizontal_p4):int(horizontal)]\n",
    "\n",
    "    #########\n",
    "\n",
    "    #Cuadrante21:\n",
    "    cuadrante_21 = img_original[int(vertical_p4):(vertical), 0:int(horizontal_p1)]\n",
    "\n",
    "    #Cuadrante22:\n",
    "    cuadrante_22 = img_original[int(vertical_p4):(vertical), int(horizontal_p1):int(horizontal_p2)]\n",
    "\n",
    "    #Cuadrante23:\n",
    "    cuadrante_23 = img_original[int(vertical_p4):(vertical), int(horizontal_p2):int(horizontal_p3)]\n",
    "\n",
    "    #Cuadrante24:\n",
    "    cuadrante_24 = img_original[int(vertical_p4):(vertical), int(horizontal_p3):int(horizontal_p4)]\n",
    "\n",
    "    #Cuadrante25:\n",
    "    cuadrante_25 = img_original[int(vertical_p4):(vertical), int(horizontal_p4):int(horizontal)]\n",
    "\n",
    "    cuadrantes = [cuadrante_1, cuadrante_2 ,cuadrante_3, cuadrante_4,cuadrante_5,\n",
    "                  cuadrante_6, cuadrante_7, cuadrante_8,cuadrante_9, cuadrante_10,\n",
    "                   cuadrante_11, cuadrante_12, cuadrante_13, cuadrante_14, cuadrante_15, \n",
    "                  cuadrante_16, cuadrante_17,cuadrante_18,cuadrante_19,cuadrante_20,\n",
    "                  cuadrante_21,cuadrante_22,cuadrante_23,cuadrante_24,cuadrante_25]\n",
    "                  \n",
    "    ###################\n",
    "\n",
    "    keypoints = []\n",
    "    for i in cuadrantes:\n",
    "        \n",
    "        gray= cv.cvtColor(i,cv.COLOR_BGR2GRAY)\n",
    "        sift = cv.SIFT_create()\n",
    "        kp = sift.detect(gray,None)\n",
    "\n",
    "        keypoints.append(len(kp))\n",
    "\n",
    "    \n",
    "    kp_fast = []\n",
    "    for i in cuadrantes:\n",
    "        \n",
    "        gray = cv.cvtColor(i,cv.COLOR_BGR2GRAY)\n",
    "        fast = cv.FastFeatureDetector_create()\n",
    "        kp = fast.detect(gray,None)\n",
    "\n",
    "        kp_fast.append(len(kp))\n",
    "\n",
    "    kp_orb = []\n",
    "    for i in cuadrantes:\n",
    "        \n",
    "        gray = cv.cvtColor(i,cv.COLOR_BGR2GRAY)\n",
    "        orb = cv.ORB_create()\n",
    "        kp = orb.detect(gray,None)\n",
    "\n",
    "        kp_orb.append(len(kp))\n",
    "\n",
    "    keypoints = np.array(keypoints)\n",
    "    kp_fast = np.array(kp_fast)\n",
    "    kp_orb = np.array(kp_orb)\n",
    "\n",
    "    return keypoints, kp_fast, kp_orb"
   ]
  },
  {
   "cell_type": "code",
   "execution_count": 11,
   "metadata": {},
   "outputs": [
    {
     "output_type": "execute_result",
     "data": {
      "text/plain": "('nasa.jpg', <http.client.HTTPMessage at 0x7fc534aa1438>)"
     },
     "metadata": {},
     "execution_count": 11
    }
   ],
   "source": [
    "#EJEMPLO no CORRER\n",
    "import urllib.request\n",
    "urllib.request.urlretrieve(\"https://instagram.flim13-1.fna.fbcdn.net/v/t51.2885-15/318464432_975144403445335_5889341956296946945_n.jpg?stp=dst-jpg_e35&_nc_ht=instagram.flim13-1.fna.fbcdn.net&_nc_cat=1&_nc_ohc=_YTVY_4NlXUAX-Wzjk9&edm=AP_V10EBAAAA&ccb=7-5&oh=00_AfAvaa5yeqysIut-W0Z4P_teZZmSIEYEI4QDedolc0CA3A&oe=63A83F66&_nc_sid=4f375e,270,0,2022-12-08,10520957\", \"prueba.jpg\") #Usar jpg"
   ]
  },
  {
   "cell_type": "code",
   "execution_count": 4,
   "metadata": {
    "tags": [
     "outputPrepend"
    ]
   },
   "outputs": [],
   "source": [
    "registro_csv = pd.read_csv(\"instagram_scrapeado.csv\")\n",
    "para_predecir = []\n",
    "\n",
    "for registro in registro_csv.values:\n",
    "    cantidad_publicaciones = registro[1]\n",
    "    cantidad_seguidores = registro[2]\n",
    "    cantidad_seguidos = registro[3]\n",
    "    url_imagen = registro[4]\n",
    "    cantidad_caracteres = registro[5]\n",
    "    cantidad_hashtags = registro[6]\n",
    "    fecha_publicacion = registro[7]\n",
    "    cantidad_likes = registro[8]\n",
    "\n",
    "    urllib.request.urlretrieve(url_imagen, \"prueba.jpg\")\n",
    "    sift_25_kp, fast_25_kp, orb_25_kp = extractor()\n",
    "\n",
    "    #para_predecir.append([cantidad_publicaciones, cantidad_seguidores, cantidad_seguidos, sift_25_kp, fast_25_kp, orb_25_kp, cantidad_caracteres, cantidad_hashtags, fecha_publicacion, cantidad_likes])\n",
    "    para_predecir.append([cantidad_publicaciones, cantidad_seguidores, cantidad_seguidos, sift_25_kp, fast_25_kp, orb_25_kp, cantidad_caracteres, cantidad_hashtags, cantidad_likes])\n",
    "    #para_predecir.append([cantidad_publicaciones, cantidad_seguidores, cantidad_seguidos, cantidad_caracteres, cantidad_hashtags, cantidad_likes])\n",
    ""
   ]
  },
  {
   "cell_type": "code",
   "execution_count": 5,
   "metadata": {},
   "outputs": [
    {
     "output_type": "execute_result",
     "data": {
      "text/plain": "     cantidad_publicaciones  cantidad_seguidores  cantidad_seguidos  \\\n0                       336             13579513                708   \n1                       336             13579606                708   \n2                      3414            520542973                520   \n3                      3414            520542973                520   \n4                      3414            520542973                520   \n..                      ...                  ...                ...   \n115                    1849            365362004                234   \n116                    1849            365362004                234   \n117                    1849            365362004                234   \n118                    1849            365362004                234   \n119                    1849            365362004                234   \n\n                                            sift_25_kp  \\\n0    [0, 0, 0, 0, 0, 0, 367, 305, 237, 0, 0, 354, 2...   \n1    [0, 0, 0, 0, 0, 0, 367, 305, 237, 0, 0, 354, 2...   \n2    [14, 26, 105, 5, 6, 6, 65, 227, 6, 7, 1, 70, 1...   \n3    [12, 0, 244, 0, 5, 79, 77, 292, 137, 17, 44, 1...   \n4    [64, 67, 66, 51, 65, 184, 195, 156, 138, 88, 1...   \n..                                                 ...   \n115  [1, 69, 22, 4, 8, 6, 91, 52, 59, 0, 19, 121, 2...   \n116  [0, 0, 43, 4, 0, 0, 0, 32, 14, 0, 0, 12, 158, ...   \n117  [0, 4, 35, 40, 0, 0, 17, 62, 19, 0, 0, 6, 48, ...   \n118  [6, 33, 15, 2, 12, 121, 135, 103, 89, 85, 148,...   \n119  [0, 0, 9, 49, 7, 0, 0, 23, 47, 7, 0, 22, 105, ...   \n\n                                            fast_25_kp  \\\n0    [0, 0, 0, 0, 0, 3, 678, 533, 372, 0, 0, 656, 5...   \n1    [0, 0, 0, 0, 0, 3, 678, 533, 372, 0, 0, 656, 5...   \n2    [0, 75, 450, 0, 0, 0, 302, 814, 15, 0, 0, 254,...   \n3    [74, 0, 1257, 25, 23, 568, 731, 1238, 626, 272...   \n4    [337, 429, 305, 218, 217, 871, 1080, 1080, 802...   \n..                                                 ...   \n115  [12, 171, 48, 19, 16, 32, 170, 99, 166, 0, 51,...   \n116  [0, 0, 172, 25, 0, 0, 0, 120, 55, 0, 0, 14, 42...   \n117  [0, 10, 637, 421, 0, 0, 118, 281, 591, 0, 0, 8...   \n118  [7, 112, 41, 6, 32, 537, 416, 376, 275, 342, 4...   \n119  [0, 0, 95, 391, 58, 0, 0, 169, 274, 115, 0, 66...   \n\n                                             orb_25_kp  cantidad_caracteres  \\\n0    [0, 0, 0, 0, 0, 0, 342, 347, 320, 0, 0, 303, 2...                    2   \n1    [0, 0, 0, 0, 0, 0, 342, 347, 320, 0, 0, 303, 2...                    2   \n2    [0, 0, 248, 0, 0, 0, 83, 400, 0, 0, 0, 300, 30...                 1079   \n3    [0, 0, 408, 0, 0, 135, 67, 400, 114, 33, 100, ...                  287   \n4    [67, 86, 39, 24, 49, 289, 310, 285, 292, 163, ...                  270   \n..                                                 ...                  ...   \n115  [0, 31, 0, 0, 0, 0, 50, 5, 39, 0, 3, 63, 17, 4...                   82   \n116  [0, 0, 51, 0, 0, 0, 0, 2, 13, 0, 0, 0, 43, 2, ...                    1   \n117  [0, 0, 74, 79, 0, 0, 0, 29, 65, 0, 0, 0, 56, 1...                   13   \n118  [4, 0, 0, 0, 0, 117, 162, 97, 15, 85, 157, 157...                   40   \n119  [0, 0, 0, 146, 0, 0, 0, 92, 72, 26, 0, 0, 53, ...                   40   \n\n     cantidad_hashtags  target_cantidad_likes  \n0                    0                 434378  \n1                    0                 434383  \n2                    0               31838645  \n3                    0               16276045  \n4                    0               10520957  \n..                 ...                    ...  \n115                  0                1028977  \n116                  0                1548758  \n117                  0                1382004  \n118                  0                1006717  \n119                  0                1830575  \n\n[120 rows x 9 columns]",
      "text/html": "<div>\n<style scoped>\n    .dataframe tbody tr th:only-of-type {\n        vertical-align: middle;\n    }\n\n    .dataframe tbody tr th {\n        vertical-align: top;\n    }\n\n    .dataframe thead th {\n        text-align: right;\n    }\n</style>\n<table border=\"1\" class=\"dataframe\">\n  <thead>\n    <tr style=\"text-align: right;\">\n      <th></th>\n      <th>cantidad_publicaciones</th>\n      <th>cantidad_seguidores</th>\n      <th>cantidad_seguidos</th>\n      <th>sift_25_kp</th>\n      <th>fast_25_kp</th>\n      <th>orb_25_kp</th>\n      <th>cantidad_caracteres</th>\n      <th>cantidad_hashtags</th>\n      <th>target_cantidad_likes</th>\n    </tr>\n  </thead>\n  <tbody>\n    <tr>\n      <th>0</th>\n      <td>336</td>\n      <td>13579513</td>\n      <td>708</td>\n      <td>[0, 0, 0, 0, 0, 0, 367, 305, 237, 0, 0, 354, 2...</td>\n      <td>[0, 0, 0, 0, 0, 3, 678, 533, 372, 0, 0, 656, 5...</td>\n      <td>[0, 0, 0, 0, 0, 0, 342, 347, 320, 0, 0, 303, 2...</td>\n      <td>2</td>\n      <td>0</td>\n      <td>434378</td>\n    </tr>\n    <tr>\n      <th>1</th>\n      <td>336</td>\n      <td>13579606</td>\n      <td>708</td>\n      <td>[0, 0, 0, 0, 0, 0, 367, 305, 237, 0, 0, 354, 2...</td>\n      <td>[0, 0, 0, 0, 0, 3, 678, 533, 372, 0, 0, 656, 5...</td>\n      <td>[0, 0, 0, 0, 0, 0, 342, 347, 320, 0, 0, 303, 2...</td>\n      <td>2</td>\n      <td>0</td>\n      <td>434383</td>\n    </tr>\n    <tr>\n      <th>2</th>\n      <td>3414</td>\n      <td>520542973</td>\n      <td>520</td>\n      <td>[14, 26, 105, 5, 6, 6, 65, 227, 6, 7, 1, 70, 1...</td>\n      <td>[0, 75, 450, 0, 0, 0, 302, 814, 15, 0, 0, 254,...</td>\n      <td>[0, 0, 248, 0, 0, 0, 83, 400, 0, 0, 0, 300, 30...</td>\n      <td>1079</td>\n      <td>0</td>\n      <td>31838645</td>\n    </tr>\n    <tr>\n      <th>3</th>\n      <td>3414</td>\n      <td>520542973</td>\n      <td>520</td>\n      <td>[12, 0, 244, 0, 5, 79, 77, 292, 137, 17, 44, 1...</td>\n      <td>[74, 0, 1257, 25, 23, 568, 731, 1238, 626, 272...</td>\n      <td>[0, 0, 408, 0, 0, 135, 67, 400, 114, 33, 100, ...</td>\n      <td>287</td>\n      <td>0</td>\n      <td>16276045</td>\n    </tr>\n    <tr>\n      <th>4</th>\n      <td>3414</td>\n      <td>520542973</td>\n      <td>520</td>\n      <td>[64, 67, 66, 51, 65, 184, 195, 156, 138, 88, 1...</td>\n      <td>[337, 429, 305, 218, 217, 871, 1080, 1080, 802...</td>\n      <td>[67, 86, 39, 24, 49, 289, 310, 285, 292, 163, ...</td>\n      <td>270</td>\n      <td>0</td>\n      <td>10520957</td>\n    </tr>\n    <tr>\n      <th>...</th>\n      <td>...</td>\n      <td>...</td>\n      <td>...</td>\n      <td>...</td>\n      <td>...</td>\n      <td>...</td>\n      <td>...</td>\n      <td>...</td>\n      <td>...</td>\n    </tr>\n    <tr>\n      <th>115</th>\n      <td>1849</td>\n      <td>365362004</td>\n      <td>234</td>\n      <td>[1, 69, 22, 4, 8, 6, 91, 52, 59, 0, 19, 121, 2...</td>\n      <td>[12, 171, 48, 19, 16, 32, 170, 99, 166, 0, 51,...</td>\n      <td>[0, 31, 0, 0, 0, 0, 50, 5, 39, 0, 3, 63, 17, 4...</td>\n      <td>82</td>\n      <td>0</td>\n      <td>1028977</td>\n    </tr>\n    <tr>\n      <th>116</th>\n      <td>1849</td>\n      <td>365362004</td>\n      <td>234</td>\n      <td>[0, 0, 43, 4, 0, 0, 0, 32, 14, 0, 0, 12, 158, ...</td>\n      <td>[0, 0, 172, 25, 0, 0, 0, 120, 55, 0, 0, 14, 42...</td>\n      <td>[0, 0, 51, 0, 0, 0, 0, 2, 13, 0, 0, 0, 43, 2, ...</td>\n      <td>1</td>\n      <td>0</td>\n      <td>1548758</td>\n    </tr>\n    <tr>\n      <th>117</th>\n      <td>1849</td>\n      <td>365362004</td>\n      <td>234</td>\n      <td>[0, 4, 35, 40, 0, 0, 17, 62, 19, 0, 0, 6, 48, ...</td>\n      <td>[0, 10, 637, 421, 0, 0, 118, 281, 591, 0, 0, 8...</td>\n      <td>[0, 0, 74, 79, 0, 0, 0, 29, 65, 0, 0, 0, 56, 1...</td>\n      <td>13</td>\n      <td>0</td>\n      <td>1382004</td>\n    </tr>\n    <tr>\n      <th>118</th>\n      <td>1849</td>\n      <td>365362004</td>\n      <td>234</td>\n      <td>[6, 33, 15, 2, 12, 121, 135, 103, 89, 85, 148,...</td>\n      <td>[7, 112, 41, 6, 32, 537, 416, 376, 275, 342, 4...</td>\n      <td>[4, 0, 0, 0, 0, 117, 162, 97, 15, 85, 157, 157...</td>\n      <td>40</td>\n      <td>0</td>\n      <td>1006717</td>\n    </tr>\n    <tr>\n      <th>119</th>\n      <td>1849</td>\n      <td>365362004</td>\n      <td>234</td>\n      <td>[0, 0, 9, 49, 7, 0, 0, 23, 47, 7, 0, 22, 105, ...</td>\n      <td>[0, 0, 95, 391, 58, 0, 0, 169, 274, 115, 0, 66...</td>\n      <td>[0, 0, 0, 146, 0, 0, 0, 92, 72, 26, 0, 0, 53, ...</td>\n      <td>40</td>\n      <td>0</td>\n      <td>1830575</td>\n    </tr>\n  </tbody>\n</table>\n<p>120 rows × 9 columns</p>\n</div>"
     },
     "metadata": {},
     "execution_count": 5
    }
   ],
   "source": [
    "#df = pd.DataFrame(para_predecir, columns=[\"cantidad_publicaciones\", \"cantidad_seguidores\", \"cantidad_seguidos\", \"sift_25_kp\", \"fast_25_kp\", \"orb_25_kp\",\"cantidad_caracteres\", \"cantidad_hashtags\", \"fecha_publicacion\", \"target_cantidad_likes\"])\n",
    "\n",
    "df = pd.DataFrame(para_predecir, columns=[\"cantidad_publicaciones\", \"cantidad_seguidores\", \"cantidad_seguidos\", \"sift_25_kp\", \"fast_25_kp\", \"orb_25_kp\",\"cantidad_caracteres\", \"cantidad_hashtags\", \"target_cantidad_likes\"])\n",
    "\n",
    "#df = pd.DataFrame(para_predecir, columns=[\"cantidad_publicaciones\", \"cantidad_seguidores\", \"cantidad_seguidos\", \"cantidad_caracteres\", \"cantidad_hashtags\", \"target_cantidad_likes\"])\n",
    "df"
   ]
  },
  {
   "cell_type": "code",
   "execution_count": 6,
   "metadata": {},
   "outputs": [
    {
     "output_type": "execute_result",
     "data": {
      "text/plain": "cantidad_publicaciones     int64\ncantidad_seguidores        int64\ncantidad_seguidos          int64\nsift_25_kp                object\nfast_25_kp                object\norb_25_kp                 object\ncantidad_caracteres        int64\ncantidad_hashtags          int64\ntarget_cantidad_likes      int64\ndtype: object"
     },
     "metadata": {},
     "execution_count": 6
    }
   ],
   "source": [
    "df.dtypes"
   ]
  },
  {
   "cell_type": "code",
   "execution_count": 28,
   "metadata": {},
   "outputs": [],
   "source": [
    "def standardize(arr):\n",
    "    mean = np.mean(arr, axis=0)\n",
    "    stdev = np.std(arr, axis=0)\n",
    "    return (arr - mean) / stdev"
   ]
  },
  {
   "cell_type": "code",
   "execution_count": 62,
   "metadata": {},
   "outputs": [
    {
     "output_type": "execute_result",
     "data": {
      "text/plain": "     cantidad_publicaciones  cantidad_seguidores  cantidad_seguidos  \\\n0                       336             13579513                708   \n1                       336             13579606                708   \n2                      3414            520542973                520   \n3                      3414            520542973                520   \n4                      3414            520542973                520   \n..                      ...                  ...                ...   \n115                    1849            365362004                234   \n116                    1849            365362004                234   \n117                    1849            365362004                234   \n118                    1849            365362004                234   \n119                    1849            365362004                234   \n\n     cantidad_caracteres  cantidad_hashtags  target_cantidad_likes  \n0                      2                  0                 434378  \n1                      2                  0                 434383  \n2                   1079                  0               31838645  \n3                    287                  0               16276045  \n4                    270                  0               10520957  \n..                   ...                ...                    ...  \n115                   82                  0                1028977  \n116                    1                  0                1548758  \n117                   13                  0                1382004  \n118                   40                  0                1006717  \n119                   40                  0                1830575  \n\n[120 rows x 6 columns]",
      "text/html": "<div>\n<style scoped>\n    .dataframe tbody tr th:only-of-type {\n        vertical-align: middle;\n    }\n\n    .dataframe tbody tr th {\n        vertical-align: top;\n    }\n\n    .dataframe thead th {\n        text-align: right;\n    }\n</style>\n<table border=\"1\" class=\"dataframe\">\n  <thead>\n    <tr style=\"text-align: right;\">\n      <th></th>\n      <th>cantidad_publicaciones</th>\n      <th>cantidad_seguidores</th>\n      <th>cantidad_seguidos</th>\n      <th>cantidad_caracteres</th>\n      <th>cantidad_hashtags</th>\n      <th>target_cantidad_likes</th>\n    </tr>\n  </thead>\n  <tbody>\n    <tr>\n      <th>0</th>\n      <td>336</td>\n      <td>13579513</td>\n      <td>708</td>\n      <td>2</td>\n      <td>0</td>\n      <td>434378</td>\n    </tr>\n    <tr>\n      <th>1</th>\n      <td>336</td>\n      <td>13579606</td>\n      <td>708</td>\n      <td>2</td>\n      <td>0</td>\n      <td>434383</td>\n    </tr>\n    <tr>\n      <th>2</th>\n      <td>3414</td>\n      <td>520542973</td>\n      <td>520</td>\n      <td>1079</td>\n      <td>0</td>\n      <td>31838645</td>\n    </tr>\n    <tr>\n      <th>3</th>\n      <td>3414</td>\n      <td>520542973</td>\n      <td>520</td>\n      <td>287</td>\n      <td>0</td>\n      <td>16276045</td>\n    </tr>\n    <tr>\n      <th>4</th>\n      <td>3414</td>\n      <td>520542973</td>\n      <td>520</td>\n      <td>270</td>\n      <td>0</td>\n      <td>10520957</td>\n    </tr>\n    <tr>\n      <th>...</th>\n      <td>...</td>\n      <td>...</td>\n      <td>...</td>\n      <td>...</td>\n      <td>...</td>\n      <td>...</td>\n    </tr>\n    <tr>\n      <th>115</th>\n      <td>1849</td>\n      <td>365362004</td>\n      <td>234</td>\n      <td>82</td>\n      <td>0</td>\n      <td>1028977</td>\n    </tr>\n    <tr>\n      <th>116</th>\n      <td>1849</td>\n      <td>365362004</td>\n      <td>234</td>\n      <td>1</td>\n      <td>0</td>\n      <td>1548758</td>\n    </tr>\n    <tr>\n      <th>117</th>\n      <td>1849</td>\n      <td>365362004</td>\n      <td>234</td>\n      <td>13</td>\n      <td>0</td>\n      <td>1382004</td>\n    </tr>\n    <tr>\n      <th>118</th>\n      <td>1849</td>\n      <td>365362004</td>\n      <td>234</td>\n      <td>40</td>\n      <td>0</td>\n      <td>1006717</td>\n    </tr>\n    <tr>\n      <th>119</th>\n      <td>1849</td>\n      <td>365362004</td>\n      <td>234</td>\n      <td>40</td>\n      <td>0</td>\n      <td>1830575</td>\n    </tr>\n  </tbody>\n</table>\n<p>120 rows × 6 columns</p>\n</div>"
     },
     "metadata": {},
     "execution_count": 62
    }
   ],
   "source": [
    "values_df = df.drop(columns=[\"sift_25_kp\",\"fast_25_kp\",\"orb_25_kp\"])\n",
    "values_df"
   ]
  },
  {
   "cell_type": "code",
   "execution_count": 27,
   "metadata": {},
   "outputs": [
    {
     "output_type": "execute_result",
     "data": {
      "text/plain": "                                            sift_25_kp  \\\n0    [0, 0, 0, 0, 0, 0, 367, 305, 237, 0, 0, 354, 2...   \n1    [0, 0, 0, 0, 0, 0, 367, 305, 237, 0, 0, 354, 2...   \n2    [14, 26, 105, 5, 6, 6, 65, 227, 6, 7, 1, 70, 1...   \n3    [12, 0, 244, 0, 5, 79, 77, 292, 137, 17, 44, 1...   \n4    [64, 67, 66, 51, 65, 184, 195, 156, 138, 88, 1...   \n..                                                 ...   \n115  [1, 69, 22, 4, 8, 6, 91, 52, 59, 0, 19, 121, 2...   \n116  [0, 0, 43, 4, 0, 0, 0, 32, 14, 0, 0, 12, 158, ...   \n117  [0, 4, 35, 40, 0, 0, 17, 62, 19, 0, 0, 6, 48, ...   \n118  [6, 33, 15, 2, 12, 121, 135, 103, 89, 85, 148,...   \n119  [0, 0, 9, 49, 7, 0, 0, 23, 47, 7, 0, 22, 105, ...   \n\n                                            fast_25_kp  \\\n0    [0, 0, 0, 0, 0, 3, 678, 533, 372, 0, 0, 656, 5...   \n1    [0, 0, 0, 0, 0, 3, 678, 533, 372, 0, 0, 656, 5...   \n2    [0, 75, 450, 0, 0, 0, 302, 814, 15, 0, 0, 254,...   \n3    [74, 0, 1257, 25, 23, 568, 731, 1238, 626, 272...   \n4    [337, 429, 305, 218, 217, 871, 1080, 1080, 802...   \n..                                                 ...   \n115  [12, 171, 48, 19, 16, 32, 170, 99, 166, 0, 51,...   \n116  [0, 0, 172, 25, 0, 0, 0, 120, 55, 0, 0, 14, 42...   \n117  [0, 10, 637, 421, 0, 0, 118, 281, 591, 0, 0, 8...   \n118  [7, 112, 41, 6, 32, 537, 416, 376, 275, 342, 4...   \n119  [0, 0, 95, 391, 58, 0, 0, 169, 274, 115, 0, 66...   \n\n                                             orb_25_kp  \n0    [0, 0, 0, 0, 0, 0, 342, 347, 320, 0, 0, 303, 2...  \n1    [0, 0, 0, 0, 0, 0, 342, 347, 320, 0, 0, 303, 2...  \n2    [0, 0, 248, 0, 0, 0, 83, 400, 0, 0, 0, 300, 30...  \n3    [0, 0, 408, 0, 0, 135, 67, 400, 114, 33, 100, ...  \n4    [67, 86, 39, 24, 49, 289, 310, 285, 292, 163, ...  \n..                                                 ...  \n115  [0, 31, 0, 0, 0, 0, 50, 5, 39, 0, 3, 63, 17, 4...  \n116  [0, 0, 51, 0, 0, 0, 0, 2, 13, 0, 0, 0, 43, 2, ...  \n117  [0, 0, 74, 79, 0, 0, 0, 29, 65, 0, 0, 0, 56, 1...  \n118  [4, 0, 0, 0, 0, 117, 162, 97, 15, 85, 157, 157...  \n119  [0, 0, 0, 146, 0, 0, 0, 92, 72, 26, 0, 0, 53, ...  \n\n[120 rows x 3 columns]",
      "text/html": "<div>\n<style scoped>\n    .dataframe tbody tr th:only-of-type {\n        vertical-align: middle;\n    }\n\n    .dataframe tbody tr th {\n        vertical-align: top;\n    }\n\n    .dataframe thead th {\n        text-align: right;\n    }\n</style>\n<table border=\"1\" class=\"dataframe\">\n  <thead>\n    <tr style=\"text-align: right;\">\n      <th></th>\n      <th>sift_25_kp</th>\n      <th>fast_25_kp</th>\n      <th>orb_25_kp</th>\n    </tr>\n  </thead>\n  <tbody>\n    <tr>\n      <th>0</th>\n      <td>[0, 0, 0, 0, 0, 0, 367, 305, 237, 0, 0, 354, 2...</td>\n      <td>[0, 0, 0, 0, 0, 3, 678, 533, 372, 0, 0, 656, 5...</td>\n      <td>[0, 0, 0, 0, 0, 0, 342, 347, 320, 0, 0, 303, 2...</td>\n    </tr>\n    <tr>\n      <th>1</th>\n      <td>[0, 0, 0, 0, 0, 0, 367, 305, 237, 0, 0, 354, 2...</td>\n      <td>[0, 0, 0, 0, 0, 3, 678, 533, 372, 0, 0, 656, 5...</td>\n      <td>[0, 0, 0, 0, 0, 0, 342, 347, 320, 0, 0, 303, 2...</td>\n    </tr>\n    <tr>\n      <th>2</th>\n      <td>[14, 26, 105, 5, 6, 6, 65, 227, 6, 7, 1, 70, 1...</td>\n      <td>[0, 75, 450, 0, 0, 0, 302, 814, 15, 0, 0, 254,...</td>\n      <td>[0, 0, 248, 0, 0, 0, 83, 400, 0, 0, 0, 300, 30...</td>\n    </tr>\n    <tr>\n      <th>3</th>\n      <td>[12, 0, 244, 0, 5, 79, 77, 292, 137, 17, 44, 1...</td>\n      <td>[74, 0, 1257, 25, 23, 568, 731, 1238, 626, 272...</td>\n      <td>[0, 0, 408, 0, 0, 135, 67, 400, 114, 33, 100, ...</td>\n    </tr>\n    <tr>\n      <th>4</th>\n      <td>[64, 67, 66, 51, 65, 184, 195, 156, 138, 88, 1...</td>\n      <td>[337, 429, 305, 218, 217, 871, 1080, 1080, 802...</td>\n      <td>[67, 86, 39, 24, 49, 289, 310, 285, 292, 163, ...</td>\n    </tr>\n    <tr>\n      <th>...</th>\n      <td>...</td>\n      <td>...</td>\n      <td>...</td>\n    </tr>\n    <tr>\n      <th>115</th>\n      <td>[1, 69, 22, 4, 8, 6, 91, 52, 59, 0, 19, 121, 2...</td>\n      <td>[12, 171, 48, 19, 16, 32, 170, 99, 166, 0, 51,...</td>\n      <td>[0, 31, 0, 0, 0, 0, 50, 5, 39, 0, 3, 63, 17, 4...</td>\n    </tr>\n    <tr>\n      <th>116</th>\n      <td>[0, 0, 43, 4, 0, 0, 0, 32, 14, 0, 0, 12, 158, ...</td>\n      <td>[0, 0, 172, 25, 0, 0, 0, 120, 55, 0, 0, 14, 42...</td>\n      <td>[0, 0, 51, 0, 0, 0, 0, 2, 13, 0, 0, 0, 43, 2, ...</td>\n    </tr>\n    <tr>\n      <th>117</th>\n      <td>[0, 4, 35, 40, 0, 0, 17, 62, 19, 0, 0, 6, 48, ...</td>\n      <td>[0, 10, 637, 421, 0, 0, 118, 281, 591, 0, 0, 8...</td>\n      <td>[0, 0, 74, 79, 0, 0, 0, 29, 65, 0, 0, 0, 56, 1...</td>\n    </tr>\n    <tr>\n      <th>118</th>\n      <td>[6, 33, 15, 2, 12, 121, 135, 103, 89, 85, 148,...</td>\n      <td>[7, 112, 41, 6, 32, 537, 416, 376, 275, 342, 4...</td>\n      <td>[4, 0, 0, 0, 0, 117, 162, 97, 15, 85, 157, 157...</td>\n    </tr>\n    <tr>\n      <th>119</th>\n      <td>[0, 0, 9, 49, 7, 0, 0, 23, 47, 7, 0, 22, 105, ...</td>\n      <td>[0, 0, 95, 391, 58, 0, 0, 169, 274, 115, 0, 66...</td>\n      <td>[0, 0, 0, 146, 0, 0, 0, 92, 72, 26, 0, 0, 53, ...</td>\n    </tr>\n  </tbody>\n</table>\n<p>120 rows × 3 columns</p>\n</div>"
     },
     "metadata": {},
     "execution_count": 27
    }
   ],
   "source": [
    "algoritmos_values = df[[\"sift_25_kp\", \"fast_25_kp\", \"orb_25_kp\"]]\n",
    "algoritmos_values"
   ]
  },
  {
   "cell_type": "code",
   "execution_count": 59,
   "metadata": {},
   "outputs": [
    {
     "output_type": "execute_result",
     "data": {
      "text/plain": "                                            sift_25_kp  \\\n0    [-0.6777754409870168, -0.6777754409870168, -0....   \n1    [-0.6777754409870168, -0.6777754409870168, -0....   \n2    [-0.5792352784697686, -0.3797282939222019, 0.9...   \n3    [-0.9607759274109808, -1.0518159710696335, 0.7...   \n4    [-1.185564643905321, -1.1304049985623315, -1.1...   \n..                                                 ...   \n115  [-0.9467760179319993, 1.0041563826551507, -0.3...   \n116  [-0.45608968414598683, -0.45608968414598683, 0...   \n117  [-0.8400007038931238, -0.6541598401999548, 0.7...   \n118  [-1.1585082008331447, -0.7351226915952602, -1....   \n119  [-0.8729112692539257, -0.8729112692539257, -0....   \n\n                                            fast_25_kp  \\\n0    [-0.8729112692539257, -0.8729112692539257, -0....   \n1    [-0.8729112692539257, -0.8729112692539257, -0....   \n2    [-0.8729112692539257, -0.8729112692539257, -0....   \n3    [-0.8729112692539257, -0.8729112692539257, -0....   \n4    [-0.8729112692539257, -0.8729112692539257, -0....   \n..                                                 ...   \n115  [-0.8729112692539257, -0.8729112692539257, -0....   \n116  [-0.8729112692539257, -0.8729112692539257, -0....   \n117  [-0.8729112692539257, -0.8729112692539257, -0....   \n118  [-0.8729112692539257, -0.8729112692539257, -0....   \n119  [-0.8729112692539257, -0.8729112692539257, -0....   \n\n                                             orb_25_kp  \n0    [-0.6192185548900654, -0.6192185548900654, -0....  \n1    [-0.6192185548900654, -0.6192185548900654, -0....  \n2    [-0.707188124441871, -0.707188124441871, 1.184...  \n3    [-1.086350970151232, -1.086350970151232, 1.678...  \n4    [-1.2904230316589218, -1.1115114904919667, -1....  \n..                                                 ...  \n115  [-0.7038621010704968, 0.7056808661895421, -0.7...  \n116  [-0.4182519884573939, -0.4182519884573939, 3.5...  \n117  [-0.6854823793168312, -0.6854823793168312, 1.2...  \n118  [-0.896825842092727, -0.9584210235551396, -0.9...  \n119  [-0.6072001032240263, -0.6072001032240263, -0....  \n\n[120 rows x 3 columns]",
      "text/html": "<div>\n<style scoped>\n    .dataframe tbody tr th:only-of-type {\n        vertical-align: middle;\n    }\n\n    .dataframe tbody tr th {\n        vertical-align: top;\n    }\n\n    .dataframe thead th {\n        text-align: right;\n    }\n</style>\n<table border=\"1\" class=\"dataframe\">\n  <thead>\n    <tr style=\"text-align: right;\">\n      <th></th>\n      <th>sift_25_kp</th>\n      <th>fast_25_kp</th>\n      <th>orb_25_kp</th>\n    </tr>\n  </thead>\n  <tbody>\n    <tr>\n      <th>0</th>\n      <td>[-0.6777754409870168, -0.6777754409870168, -0....</td>\n      <td>[-0.8729112692539257, -0.8729112692539257, -0....</td>\n      <td>[-0.6192185548900654, -0.6192185548900654, -0....</td>\n    </tr>\n    <tr>\n      <th>1</th>\n      <td>[-0.6777754409870168, -0.6777754409870168, -0....</td>\n      <td>[-0.8729112692539257, -0.8729112692539257, -0....</td>\n      <td>[-0.6192185548900654, -0.6192185548900654, -0....</td>\n    </tr>\n    <tr>\n      <th>2</th>\n      <td>[-0.5792352784697686, -0.3797282939222019, 0.9...</td>\n      <td>[-0.8729112692539257, -0.8729112692539257, -0....</td>\n      <td>[-0.707188124441871, -0.707188124441871, 1.184...</td>\n    </tr>\n    <tr>\n      <th>3</th>\n      <td>[-0.9607759274109808, -1.0518159710696335, 0.7...</td>\n      <td>[-0.8729112692539257, -0.8729112692539257, -0....</td>\n      <td>[-1.086350970151232, -1.086350970151232, 1.678...</td>\n    </tr>\n    <tr>\n      <th>4</th>\n      <td>[-1.185564643905321, -1.1304049985623315, -1.1...</td>\n      <td>[-0.8729112692539257, -0.8729112692539257, -0....</td>\n      <td>[-1.2904230316589218, -1.1115114904919667, -1....</td>\n    </tr>\n    <tr>\n      <th>...</th>\n      <td>...</td>\n      <td>...</td>\n      <td>...</td>\n    </tr>\n    <tr>\n      <th>115</th>\n      <td>[-0.9467760179319993, 1.0041563826551507, -0.3...</td>\n      <td>[-0.8729112692539257, -0.8729112692539257, -0....</td>\n      <td>[-0.7038621010704968, 0.7056808661895421, -0.7...</td>\n    </tr>\n    <tr>\n      <th>116</th>\n      <td>[-0.45608968414598683, -0.45608968414598683, 0...</td>\n      <td>[-0.8729112692539257, -0.8729112692539257, -0....</td>\n      <td>[-0.4182519884573939, -0.4182519884573939, 3.5...</td>\n    </tr>\n    <tr>\n      <th>117</th>\n      <td>[-0.8400007038931238, -0.6541598401999548, 0.7...</td>\n      <td>[-0.8729112692539257, -0.8729112692539257, -0....</td>\n      <td>[-0.6854823793168312, -0.6854823793168312, 1.2...</td>\n    </tr>\n    <tr>\n      <th>118</th>\n      <td>[-1.1585082008331447, -0.7351226915952602, -1....</td>\n      <td>[-0.8729112692539257, -0.8729112692539257, -0....</td>\n      <td>[-0.896825842092727, -0.9584210235551396, -0.9...</td>\n    </tr>\n    <tr>\n      <th>119</th>\n      <td>[-0.8729112692539257, -0.8729112692539257, -0....</td>\n      <td>[-0.8729112692539257, -0.8729112692539257, -0....</td>\n      <td>[-0.6072001032240263, -0.6072001032240263, -0....</td>\n    </tr>\n  </tbody>\n</table>\n<p>120 rows × 3 columns</p>\n</div>"
     },
     "metadata": {},
     "execution_count": 59
    }
   ],
   "source": [
    "# standardized_lst = algoritmos_values.apply(lambda x: x - np.mean(x))\n",
    "# standardized_lst\n",
    "sift_standard = []\n",
    "for registros_sift in algoritmos_values.sift_25_kp.values:\n",
    "    registros_sift = standardize(registros_sift)\n",
    "    sift_standard.append(registros_sift)\n",
    "\n",
    "fast_standard = []\n",
    "for registros_fast in algoritmos_values.fast_25_kp.values:\n",
    "    registros_fast = standardize(registros_fast)\n",
    "    fast_standard.append(registros_sift)\n",
    "\n",
    "orb_standard = []\n",
    "for registros_orb in algoritmos_values.orb_25_kp.values:\n",
    "    registros_orb = standardize(registros_orb)\n",
    "    orb_standard.append(registros_orb)\n",
    "    \n",
    "# sift_standard = np.array(sift_standard)\n",
    "# fast_standard = np.array(fast_standard)\n",
    "# orb_standard = np.array(orb_standard)\n",
    "\n",
    "lista = [sift_standard, fast_standard, orb_standard]\n",
    "\n",
    "algoritmos_values_standard = pd.DataFrame({'sift_25_kp': sift_standard, 'fast_25_kp': fast_standard, 'orb_25_kp': orb_standard})\n",
    "algoritmos_values_standard"
   ]
  },
  {
   "cell_type": "code",
   "execution_count": 71,
   "metadata": {
    "tags": [
     "outputPrepend"
    ]
   },
   "outputs": [],
   "source": [
    "x = values_df.values[:,:-1]\n",
    "y = df.target_cantidad_likes.values\n",
    "escalador = StandardScaler()\n",
    "x_norm = escalador.fit_transform(x) #z = (x - u) / s -> u es media, s es desv standar\n",
    "### \n",
    "#COmo este normalizado le falta la otra data, se la paso ahora.\n",
    "##\n",
    "\n",
    "df_para_unir1 = pd.DataFrame(x_norm)\n",
    "df_para_unir2 = pd.DataFrame(algoritmos_values_standard)\n",
    "df_normalizado = pd.concat([df_para_unir1, df_para_unir2], axis=1)\n",
    "data_normalizada = df_normalizado.values"
   ]
  },
  {
   "cell_type": "code",
   "execution_count": 72,
   "metadata": {},
   "outputs": [
    {
     "output_type": "execute_result",
     "data": {
      "text/plain": "((96, 5), (96,), (24, 5), (24,), (120,))"
     },
     "metadata": {},
     "execution_count": 72
    }
   ],
   "source": [
    "x_train, x_test, y_train, y_test = train_test_split(x_norm, y, test_size=0.2)\n",
    "x_train.shape, y_train.shape, x_test.shape, y_test.shape, y.shape"
   ]
  },
  {
   "cell_type": "code",
   "execution_count": 73,
   "metadata": {},
   "outputs": [
    {
     "output_type": "stream",
     "name": "stdout",
     "text": "SVR(C=1.0, cache_size=200, coef0=0.0, degree=3, epsilon=0.1, gamma='scale',\n    kernel='rbf', max_iter=-1, shrinking=True, tol=0.001, verbose=False)\nporcentaje acuraccy:\n -0.4780031804064493\ncross_val:\n -0.4129574100594743\n\n####################\n\nSGDRegressor(alpha=0.0001, average=False, early_stopping=False, epsilon=0.1,\n             eta0=0.01, fit_intercept=True, l1_ratio=0.15,\n             learning_rate='invscaling', loss='squared_loss', max_iter=1000,\n             n_iter_no_change=5, penalty='l2', power_t=0.25, random_state=None,\n             shuffle=True, tol=0.001, validation_fraction=0.1, verbose=0,\n             warm_start=False)\nporcentaje acuraccy:\n 0.5668730627724117\ncross_val:\n 0.3686563483661809\n\n####################\n\nBayesianRidge(alpha_1=1e-06, alpha_2=1e-06, alpha_init=None,\n              compute_score=False, copy_X=True, fit_intercept=True,\n              lambda_1=1e-06, lambda_2=1e-06, lambda_init=None, n_iter=300,\n              normalize=False, tol=0.001, verbose=False)\nporcentaje acuraccy:\n -0.014176217430628801\ncross_val:\n -0.08875777240301815\n\n####################\n\nLassoLars(alpha=1.0, copy_X=True, eps=2.220446049250313e-16, fit_intercept=True,\n          fit_path=True, max_iter=500, normalize=True, positive=False,\n          precompute='auto', verbose=False)\nporcentaje acuraccy:\n 0.5673110478169743\ncross_val:\n -12.834128901766556\n\n####################\n\nARDRegression(alpha_1=1e-06, alpha_2=1e-06, compute_score=False, copy_X=True,\n              fit_intercept=True, lambda_1=1e-06, lambda_2=1e-06, n_iter=300,\n              normalize=False, threshold_lambda=10000.0, tol=0.001,\n              verbose=False)\nporcentaje acuraccy:\n -0.014176217430630578\ncross_val:\n -0.08875777240301823\n\n####################\n\nPassiveAggressiveRegressor(C=1.0, average=False, early_stopping=False,\n                           epsilon=0.1, fit_intercept=True,\n                           loss='epsilon_insensitive', max_iter=1000,\n                           n_iter_no_change=5, random_state=None, shuffle=True,\n                           tol=0.001, validation_fraction=0.1, verbose=0,\n                           warm_start=False)\nporcentaje acuraccy:\n -1.5078903763860283\ncross_val:\n -1.803393372612608\n\n####################\n\nTheilSenRegressor(copy_X=True, fit_intercept=True, max_iter=300,\n                  max_subpopulation=10000, n_jobs=None, n_subsamples=None,\n                  random_state=None, tol=0.001, verbose=False)\nporcentaje acuraccy:\n 0.39060820341912594\ncross_val:\n 0.299165852229352\n\n####################\n\nLinearRegression(copy_X=True, fit_intercept=True, n_jobs=None, normalize=False)\nporcentaje acuraccy:\n 0.5673089338268132\ncross_val:\n -141979682.91656902\n\n####################\n\n"
    }
   ],
   "source": [
    "from sklearn import linear_model\n",
    "from sklearn import svm\n",
    "from sklearn.model_selection import cross_val_score\n",
    "\n",
    "classifiers = [\n",
    "    svm.SVR(),\n",
    "    linear_model.SGDRegressor(),\n",
    "    linear_model.BayesianRidge(),\n",
    "    linear_model.LassoLars(),\n",
    "    linear_model.ARDRegression(),\n",
    "    linear_model.PassiveAggressiveRegressor(),\n",
    "    linear_model.TheilSenRegressor(),\n",
    "    linear_model.LinearRegression()]\n",
    "    \n",
    "for item in classifiers:\n",
    "    print(item)\n",
    "    clf = item\n",
    "    #clf.fit(x_norm, y)\n",
    "    #cuando uso x_train y y_train se hace negativo\n",
    "    clf.fit(x_train, y_train)\n",
    "    print(\"porcentaje acuraccy:\\n\", clf.score(x_test, y_test))\n",
    "    print(\"cross_val:\\n\", cross_val_score(item, x_test, y_test, cv=5).mean())\n",
    "    print(\"\\n####################\\n\")"
   ]
  }
 ]
}