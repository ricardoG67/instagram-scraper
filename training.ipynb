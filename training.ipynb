{
 "nbformat": 4,
 "nbformat_minor": 2,
 "metadata": {
  "language_info": {
   "name": "python",
   "codemirror_mode": {
    "name": "ipython",
    "version": 3
   },
   "version": "3.7.3-final"
  },
  "orig_nbformat": 2,
  "file_extension": ".py",
  "mimetype": "text/x-python",
  "name": "python",
  "npconvert_exporter": "python",
  "pygments_lexer": "ipython3",
  "version": 3,
  "kernelspec": {
   "name": "python37364bitbasecondae44acf9070e249dcb8f20e7ff5b8be39",
   "display_name": "Python 3.7.3 64-bit ('base': conda)"
  }
 },
 "cells": [
  {
   "cell_type": "markdown",
   "metadata": {},
   "source": [
    "# Prediciendo lo scrapeado"
   ]
  },
  {
   "cell_type": "code",
   "execution_count": 21,
   "metadata": {},
   "outputs": [],
   "source": [
    "import cv2 as cv\n",
    "import re\n",
    "import glob\n",
    "import pandas as pd\n",
    "from sklearn.preprocessing import StandardScaler\n",
    "from sklearn.model_selection import train_test_split\n",
    "from sklearn.model_selection import cross_val_score\n",
    "import urllib.request\n",
    ""
   ]
  },
  {
   "cell_type": "code",
   "execution_count": 26,
   "metadata": {},
   "outputs": [],
   "source": [
    "def extractor():\n",
    "    img_original = cv.imread(\"prueba.jpg\")\n",
    "    vertical = (img_original.shape)[0]\n",
    "    vertical = int(vertical)\n",
    "\n",
    "    horizontal = (img_original.shape)[1]\n",
    "    horizontal = int(horizontal)\n",
    "\n",
    "    #Puntos\n",
    "    vertical_p1 = vertical/5\n",
    "    vertical_p2 = (2*vertical)/5\n",
    "    vertical_p3 = (3*vertical)/5\n",
    "    vertical_p4 = (4*vertical)/5\n",
    "\n",
    "\n",
    "    horizontal_p1 = (horizontal)/5\n",
    "    horizontal_p2 = (2*horizontal)/5\n",
    "    horizontal_p3 = (3*horizontal)/5\n",
    "    horizontal_p4 = (4*horizontal)/5\n",
    "\n",
    "\n",
    "    #Cuadrante1:\n",
    "    cuadrante_1 = img_original[0:int(vertical_p1), 0:int(horizontal_p1)]\n",
    "\n",
    "    #Cuadrante2:\n",
    "    cuadrante_2 = img_original[0:int(vertical_p1), int(horizontal_p1):int(horizontal_p2)]\n",
    "\n",
    "    #Cuadrante3:\n",
    "    cuadrante_3 = img_original[0:int(vertical_p1), int(horizontal_p2):int(horizontal_p3)]\n",
    "\n",
    "    #Cuadrante4:\n",
    "    cuadrante_4 = img_original[0:int(vertical_p1), int(horizontal_p3):int(horizontal_p4)]\n",
    "\n",
    "    #Cuadrante5:\n",
    "    cuadrante_5 = img_original[0:int(vertical_p1), int(horizontal_p4):int(horizontal)]\n",
    "\n",
    "\n",
    "    #########\n",
    "\n",
    "    #Cuadrante6:\n",
    "    cuadrante_6 = img_original[int(vertical_p1):int(vertical_p2), 0:int(horizontal_p1)]\n",
    "\n",
    "    #Cuadrante7:\n",
    "    cuadrante_7 = img_original[int(vertical_p1):int(vertical_p2), int(horizontal_p1):int(horizontal_p2)]\n",
    "\n",
    "    #Cuadrante8:\n",
    "    cuadrante_8 = img_original[int(vertical_p1):int(vertical_p2), int(horizontal_p2):int(horizontal_p3)]\n",
    "\n",
    "    #Cuadrante9:\n",
    "    cuadrante_9 = img_original[int(vertical_p1):int(vertical_p2), int(horizontal_p3):int(horizontal_p4)]\n",
    "\n",
    "    #Cuadrante10:\n",
    "    cuadrante_10 = img_original[int(vertical_p1):int(vertical_p2), int(horizontal_p4):int(horizontal)]\n",
    "\n",
    "    #########\n",
    "\n",
    "    #Cuadrante11:\n",
    "    cuadrante_11 = img_original[int(vertical_p2):int(vertical_p3), 0:int(horizontal_p1)]\n",
    "\n",
    "    #Cuadrante12:\n",
    "    cuadrante_12 = img_original[int(vertical_p2):int(vertical_p3), int(horizontal_p1):int(horizontal_p2)]\n",
    "\n",
    "    #Cuadrante13:\n",
    "    cuadrante_13 = img_original[int(vertical_p2):int(vertical_p3), int(horizontal_p2):int(horizontal_p3)]\n",
    "\n",
    "    #Cuadrante14:\n",
    "    cuadrante_14 = img_original[int(vertical_p2):int(vertical_p3), int(horizontal_p3):int(horizontal_p4)]\n",
    "\n",
    "    #Cuadrante15:\n",
    "    cuadrante_15 = img_original[int(vertical_p2):int(vertical_p3), int(horizontal_p4):int(horizontal)]\n",
    "\n",
    "    #########\n",
    "\n",
    "    #Cuadrante16:\n",
    "    cuadrante_16 = img_original[int(vertical_p3):int(vertical_p4), 0:int(horizontal_p1)]\n",
    "\n",
    "    #Cuadrante17:\n",
    "    cuadrante_17 = img_original[int(vertical_p3):int(vertical_p4), int(horizontal_p1):int(horizontal_p2)]\n",
    "\n",
    "    #Cuadrante18:\n",
    "    cuadrante_18 = img_original[int(vertical_p3):int(vertical_p4), int(horizontal_p2):int(horizontal_p3)]\n",
    "\n",
    "    #Cuadrante19:\n",
    "    cuadrante_19 = img_original[int(vertical_p3):int(vertical_p4), int(horizontal_p3):int(horizontal_p4)]\n",
    "\n",
    "    #Cuadrante20:\n",
    "    cuadrante_20 = img_original[int(vertical_p3):int(vertical_p4), int(horizontal_p4):int(horizontal)]\n",
    "\n",
    "    #########\n",
    "\n",
    "    #Cuadrante21:\n",
    "    cuadrante_21 = img_original[int(vertical_p4):(vertical), 0:int(horizontal_p1)]\n",
    "\n",
    "    #Cuadrante22:\n",
    "    cuadrante_22 = img_original[int(vertical_p4):(vertical), int(horizontal_p1):int(horizontal_p2)]\n",
    "\n",
    "    #Cuadrante23:\n",
    "    cuadrante_23 = img_original[int(vertical_p4):(vertical), int(horizontal_p2):int(horizontal_p3)]\n",
    "\n",
    "    #Cuadrante24:\n",
    "    cuadrante_24 = img_original[int(vertical_p4):(vertical), int(horizontal_p3):int(horizontal_p4)]\n",
    "\n",
    "    #Cuadrante25:\n",
    "    cuadrante_25 = img_original[int(vertical_p4):(vertical), int(horizontal_p4):int(horizontal)]\n",
    "\n",
    "    cuadrantes = [cuadrante_1, cuadrante_2 ,cuadrante_3, cuadrante_4,cuadrante_5,\n",
    "                  cuadrante_6, cuadrante_7, cuadrante_8,cuadrante_9, cuadrante_10,\n",
    "                   cuadrante_11, cuadrante_12, cuadrante_13, cuadrante_14, cuadrante_15, \n",
    "                  cuadrante_16, cuadrante_17,cuadrante_18,cuadrante_19,cuadrante_20,\n",
    "                  cuadrante_21,cuadrante_22,cuadrante_23,cuadrante_24,cuadrante_25]\n",
    "                  \n",
    "    ###################\n",
    "\n",
    "    keypoints = []\n",
    "    for i in cuadrantes:\n",
    "        \n",
    "        gray= cv.cvtColor(i,cv.COLOR_BGR2GRAY)\n",
    "        sift = cv.SIFT_create()\n",
    "        kp = sift.detect(gray,None)\n",
    "\n",
    "        keypoints.append(len(kp))\n",
    "\n",
    "    \n",
    "    kp_fast = []\n",
    "    for i in cuadrantes:\n",
    "        \n",
    "        gray = cv.cvtColor(i,cv.COLOR_BGR2GRAY)\n",
    "        fast = cv.FastFeatureDetector_create()\n",
    "        kp = fast.detect(gray,None)\n",
    "\n",
    "        kp_fast.append(len(kp))\n",
    "\n",
    "    kp_orb = []\n",
    "    for i in cuadrantes:\n",
    "        \n",
    "        gray = cv.cvtColor(i,cv.COLOR_BGR2GRAY)\n",
    "        orb = cv.ORB_create()\n",
    "        kp = orb.detect(gray,None)\n",
    "\n",
    "        kp_orb.append(len(kp))\n",
    "\n",
    "    return keypoints, kp_fast, kp_orb"
   ]
  },
  {
   "cell_type": "code",
   "execution_count": 11,
   "metadata": {},
   "outputs": [
    {
     "output_type": "execute_result",
     "data": {
      "text/plain": "('nasa.jpg', <http.client.HTTPMessage at 0x7fc534aa1438>)"
     },
     "metadata": {},
     "execution_count": 11
    }
   ],
   "source": [
    "import urllib.request\n",
    "urllib.request.urlretrieve(\"https://instagram.flim13-1.fna.fbcdn.net/v/t51.2885-15/318464432_975144403445335_5889341956296946945_n.jpg?stp=dst-jpg_e35&_nc_ht=instagram.flim13-1.fna.fbcdn.net&_nc_cat=1&_nc_ohc=_YTVY_4NlXUAX-Wzjk9&edm=AP_V10EBAAAA&ccb=7-5&oh=00_AfAvaa5yeqysIut-W0Z4P_teZZmSIEYEI4QDedolc0CA3A&oe=63A83F66&_nc_sid=4f375e,270,0,2022-12-08,10520957\", \"prueba.jpg\") #Usar jpg"
   ]
  },
  {
   "cell_type": "code",
   "execution_count": 17,
   "metadata": {},
   "outputs": [
    {
     "output_type": "execute_result",
     "data": {
      "text/plain": "([64,\n  67,\n  66,\n  51,\n  65,\n  184,\n  195,\n  156,\n  138,\n  88,\n  163,\n  278,\n  178,\n  210,\n  99,\n  144,\n  95,\n  52,\n  103,\n  146,\n  131,\n  141,\n  131,\n  143,\n  124],\n [337,\n  429,\n  305,\n  218,\n  217,\n  871,\n  1080,\n  1080,\n  802,\n  526,\n  754,\n  1134,\n  991,\n  810,\n  635,\n  635,\n  538,\n  324,\n  451,\n  728,\n  1030,\n  1103,\n  1076,\n  1007,\n  1130],\n [67,\n  86,\n  39,\n  24,\n  49,\n  289,\n  310,\n  285,\n  292,\n  163,\n  282,\n  311,\n  272,\n  246,\n  243,\n  130,\n  53,\n  72,\n  118,\n  251,\n  284,\n  309,\n  311,\n  315,\n  300])"
     },
     "metadata": {},
     "execution_count": 17
    }
   ],
   "source": [
    "extractor()"
   ]
  },
  {
   "cell_type": "code",
   "execution_count": 28,
   "metadata": {
    "tags": [
     "outputPrepend"
    ]
   },
   "outputs": [],
   "source": [
    "registro_csv = pd.read_csv(\"instagram_scrapeado.csv\")\n",
    "para_predecir = []\n",
    "\n",
    "for registro in registro_csv.values:\n",
    "    cantidad_publicaciones = registro[1]\n",
    "    cantidad_seguidores = registro[2]\n",
    "    cantidad_seguidos = registro[3]\n",
    "    url_imagen = registro[4]\n",
    "    cantidad_caracteres = registro[5]\n",
    "    cantidad_hashtags = registro[6]\n",
    "    fecha_publicacion = registro[7]\n",
    "    cantidad_likes = registro[8]\n",
    "\n",
    "    urllib.request.urlretrieve(url_imagen, \"prueba.jpg\")\n",
    "    sift_25_kp, fast_25_kp, orb_25_kp = extractor()\n",
    "\n",
    "    para_predecir.append([cantidad_publicaciones, cantidad_seguidores, cantidad_seguidos, sift_25_kp, fast_25_kp, orb_25_kp, cantidad_caracteres, cantidad_hashtags, fecha_publicacion, cantidad_likes])\n",
    ""
   ]
  },
  {
   "cell_type": "code",
   "execution_count": 47,
   "metadata": {},
   "outputs": [
    {
     "output_type": "execute_result",
     "data": {
      "text/plain": "     cantidad_publicaciones  cantidad_seguidores  cantidad_seguidos  \\\n0                       336             13579513                708   \n1                       336             13579606                708   \n2                      3414            520542973                520   \n3                      3414            520542973                520   \n4                      3414            520542973                520   \n..                      ...                  ...                ...   \n115                    1849            365362004                234   \n116                    1849            365362004                234   \n117                    1849            365362004                234   \n118                    1849            365362004                234   \n119                    1849            365362004                234   \n\n                                            sift_25_kp  \\\n0    [0, 0, 0, 0, 0, 0, 367, 305, 237, 0, 0, 354, 2...   \n1    [0, 0, 0, 0, 0, 0, 367, 305, 237, 0, 0, 354, 2...   \n2    [14, 26, 105, 5, 6, 6, 65, 227, 6, 7, 1, 70, 1...   \n3    [12, 0, 244, 0, 5, 79, 77, 292, 137, 17, 44, 1...   \n4    [64, 67, 66, 51, 65, 184, 195, 156, 138, 88, 1...   \n..                                                 ...   \n115  [1, 69, 22, 4, 8, 6, 91, 52, 59, 0, 19, 121, 2...   \n116  [0, 0, 43, 4, 0, 0, 0, 32, 14, 0, 0, 12, 158, ...   \n117  [0, 4, 35, 40, 0, 0, 17, 62, 19, 0, 0, 6, 48, ...   \n118  [6, 33, 15, 2, 12, 121, 135, 103, 89, 85, 148,...   \n119  [0, 0, 9, 49, 7, 0, 0, 23, 47, 7, 0, 22, 105, ...   \n\n                                            fast_25_kp  \\\n0    [0, 0, 0, 0, 0, 3, 678, 533, 372, 0, 0, 656, 5...   \n1    [0, 0, 0, 0, 0, 3, 678, 533, 372, 0, 0, 656, 5...   \n2    [0, 75, 450, 0, 0, 0, 302, 814, 15, 0, 0, 254,...   \n3    [74, 0, 1257, 25, 23, 568, 731, 1238, 626, 272...   \n4    [337, 429, 305, 218, 217, 871, 1080, 1080, 802...   \n..                                                 ...   \n115  [12, 171, 48, 19, 16, 32, 170, 99, 166, 0, 51,...   \n116  [0, 0, 172, 25, 0, 0, 0, 120, 55, 0, 0, 14, 42...   \n117  [0, 10, 637, 421, 0, 0, 118, 281, 591, 0, 0, 8...   \n118  [7, 112, 41, 6, 32, 537, 416, 376, 275, 342, 4...   \n119  [0, 0, 95, 391, 58, 0, 0, 169, 274, 115, 0, 66...   \n\n                                             orb_25_kp  cantidad_caracteres  \\\n0    [0, 0, 0, 0, 0, 0, 342, 347, 320, 0, 0, 303, 2...                    2   \n1    [0, 0, 0, 0, 0, 0, 342, 347, 320, 0, 0, 303, 2...                    2   \n2    [0, 0, 248, 0, 0, 0, 83, 400, 0, 0, 0, 300, 30...                 1079   \n3    [0, 0, 408, 0, 0, 135, 67, 400, 114, 33, 100, ...                  287   \n4    [67, 86, 39, 24, 49, 289, 310, 285, 292, 163, ...                  270   \n..                                                 ...                  ...   \n115  [0, 31, 0, 0, 0, 0, 50, 5, 39, 0, 3, 63, 17, 4...                   82   \n116  [0, 0, 51, 0, 0, 0, 0, 2, 13, 0, 0, 0, 43, 2, ...                    1   \n117  [0, 0, 74, 79, 0, 0, 0, 29, 65, 0, 0, 0, 56, 1...                   13   \n118  [4, 0, 0, 0, 0, 117, 162, 97, 15, 85, 157, 157...                   40   \n119  [0, 0, 0, 146, 0, 0, 0, 92, 72, 26, 0, 0, 53, ...                   40   \n\n     cantidad_hashtags fecha_publicacion  target_cantidad_likes  \n0                    0        2022-11-08                 434378  \n1                    0        2022-11-08                 434383  \n2                    0        2022-12-11               31838645  \n3                    0        2022-12-09               16276045  \n4                    0        2022-12-08               10520957  \n..                 ...               ...                    ...  \n115                  0        2015-04-03                1028977  \n116                  0        2015-04-02                1548758  \n117                  0        2015-04-01                1382004  \n118                  0        2015-03-28                1006717  \n119                  0        2015-03-23                1830575  \n\n[120 rows x 10 columns]",
      "text/html": "<div>\n<style scoped>\n    .dataframe tbody tr th:only-of-type {\n        vertical-align: middle;\n    }\n\n    .dataframe tbody tr th {\n        vertical-align: top;\n    }\n\n    .dataframe thead th {\n        text-align: right;\n    }\n</style>\n<table border=\"1\" class=\"dataframe\">\n  <thead>\n    <tr style=\"text-align: right;\">\n      <th></th>\n      <th>cantidad_publicaciones</th>\n      <th>cantidad_seguidores</th>\n      <th>cantidad_seguidos</th>\n      <th>sift_25_kp</th>\n      <th>fast_25_kp</th>\n      <th>orb_25_kp</th>\n      <th>cantidad_caracteres</th>\n      <th>cantidad_hashtags</th>\n      <th>fecha_publicacion</th>\n      <th>target_cantidad_likes</th>\n    </tr>\n  </thead>\n  <tbody>\n    <tr>\n      <th>0</th>\n      <td>336</td>\n      <td>13579513</td>\n      <td>708</td>\n      <td>[0, 0, 0, 0, 0, 0, 367, 305, 237, 0, 0, 354, 2...</td>\n      <td>[0, 0, 0, 0, 0, 3, 678, 533, 372, 0, 0, 656, 5...</td>\n      <td>[0, 0, 0, 0, 0, 0, 342, 347, 320, 0, 0, 303, 2...</td>\n      <td>2</td>\n      <td>0</td>\n      <td>2022-11-08</td>\n      <td>434378</td>\n    </tr>\n    <tr>\n      <th>1</th>\n      <td>336</td>\n      <td>13579606</td>\n      <td>708</td>\n      <td>[0, 0, 0, 0, 0, 0, 367, 305, 237, 0, 0, 354, 2...</td>\n      <td>[0, 0, 0, 0, 0, 3, 678, 533, 372, 0, 0, 656, 5...</td>\n      <td>[0, 0, 0, 0, 0, 0, 342, 347, 320, 0, 0, 303, 2...</td>\n      <td>2</td>\n      <td>0</td>\n      <td>2022-11-08</td>\n      <td>434383</td>\n    </tr>\n    <tr>\n      <th>2</th>\n      <td>3414</td>\n      <td>520542973</td>\n      <td>520</td>\n      <td>[14, 26, 105, 5, 6, 6, 65, 227, 6, 7, 1, 70, 1...</td>\n      <td>[0, 75, 450, 0, 0, 0, 302, 814, 15, 0, 0, 254,...</td>\n      <td>[0, 0, 248, 0, 0, 0, 83, 400, 0, 0, 0, 300, 30...</td>\n      <td>1079</td>\n      <td>0</td>\n      <td>2022-12-11</td>\n      <td>31838645</td>\n    </tr>\n    <tr>\n      <th>3</th>\n      <td>3414</td>\n      <td>520542973</td>\n      <td>520</td>\n      <td>[12, 0, 244, 0, 5, 79, 77, 292, 137, 17, 44, 1...</td>\n      <td>[74, 0, 1257, 25, 23, 568, 731, 1238, 626, 272...</td>\n      <td>[0, 0, 408, 0, 0, 135, 67, 400, 114, 33, 100, ...</td>\n      <td>287</td>\n      <td>0</td>\n      <td>2022-12-09</td>\n      <td>16276045</td>\n    </tr>\n    <tr>\n      <th>4</th>\n      <td>3414</td>\n      <td>520542973</td>\n      <td>520</td>\n      <td>[64, 67, 66, 51, 65, 184, 195, 156, 138, 88, 1...</td>\n      <td>[337, 429, 305, 218, 217, 871, 1080, 1080, 802...</td>\n      <td>[67, 86, 39, 24, 49, 289, 310, 285, 292, 163, ...</td>\n      <td>270</td>\n      <td>0</td>\n      <td>2022-12-08</td>\n      <td>10520957</td>\n    </tr>\n    <tr>\n      <th>...</th>\n      <td>...</td>\n      <td>...</td>\n      <td>...</td>\n      <td>...</td>\n      <td>...</td>\n      <td>...</td>\n      <td>...</td>\n      <td>...</td>\n      <td>...</td>\n      <td>...</td>\n    </tr>\n    <tr>\n      <th>115</th>\n      <td>1849</td>\n      <td>365362004</td>\n      <td>234</td>\n      <td>[1, 69, 22, 4, 8, 6, 91, 52, 59, 0, 19, 121, 2...</td>\n      <td>[12, 171, 48, 19, 16, 32, 170, 99, 166, 0, 51,...</td>\n      <td>[0, 31, 0, 0, 0, 0, 50, 5, 39, 0, 3, 63, 17, 4...</td>\n      <td>82</td>\n      <td>0</td>\n      <td>2015-04-03</td>\n      <td>1028977</td>\n    </tr>\n    <tr>\n      <th>116</th>\n      <td>1849</td>\n      <td>365362004</td>\n      <td>234</td>\n      <td>[0, 0, 43, 4, 0, 0, 0, 32, 14, 0, 0, 12, 158, ...</td>\n      <td>[0, 0, 172, 25, 0, 0, 0, 120, 55, 0, 0, 14, 42...</td>\n      <td>[0, 0, 51, 0, 0, 0, 0, 2, 13, 0, 0, 0, 43, 2, ...</td>\n      <td>1</td>\n      <td>0</td>\n      <td>2015-04-02</td>\n      <td>1548758</td>\n    </tr>\n    <tr>\n      <th>117</th>\n      <td>1849</td>\n      <td>365362004</td>\n      <td>234</td>\n      <td>[0, 4, 35, 40, 0, 0, 17, 62, 19, 0, 0, 6, 48, ...</td>\n      <td>[0, 10, 637, 421, 0, 0, 118, 281, 591, 0, 0, 8...</td>\n      <td>[0, 0, 74, 79, 0, 0, 0, 29, 65, 0, 0, 0, 56, 1...</td>\n      <td>13</td>\n      <td>0</td>\n      <td>2015-04-01</td>\n      <td>1382004</td>\n    </tr>\n    <tr>\n      <th>118</th>\n      <td>1849</td>\n      <td>365362004</td>\n      <td>234</td>\n      <td>[6, 33, 15, 2, 12, 121, 135, 103, 89, 85, 148,...</td>\n      <td>[7, 112, 41, 6, 32, 537, 416, 376, 275, 342, 4...</td>\n      <td>[4, 0, 0, 0, 0, 117, 162, 97, 15, 85, 157, 157...</td>\n      <td>40</td>\n      <td>0</td>\n      <td>2015-03-28</td>\n      <td>1006717</td>\n    </tr>\n    <tr>\n      <th>119</th>\n      <td>1849</td>\n      <td>365362004</td>\n      <td>234</td>\n      <td>[0, 0, 9, 49, 7, 0, 0, 23, 47, 7, 0, 22, 105, ...</td>\n      <td>[0, 0, 95, 391, 58, 0, 0, 169, 274, 115, 0, 66...</td>\n      <td>[0, 0, 0, 146, 0, 0, 0, 92, 72, 26, 0, 0, 53, ...</td>\n      <td>40</td>\n      <td>0</td>\n      <td>2015-03-23</td>\n      <td>1830575</td>\n    </tr>\n  </tbody>\n</table>\n<p>120 rows × 10 columns</p>\n</div>"
     },
     "metadata": {},
     "execution_count": 47
    }
   ],
   "source": [
    "df = pd.DataFrame(para_predecir, columns=[\"cantidad_publicaciones\", \"cantidad_seguidores\", \"cantidad_seguidos\", \"sift_25_kp\", \"fast_25_kp\", \"orb_25_kp\",\"cantidad_caracteres\", \"cantidad_hashtags\", \"fecha_publicacion\", \"target_cantidad_likes\"])\n",
    "df"
   ]
  },
  {
   "cell_type": "code",
   "execution_count": 49,
   "metadata": {},
   "outputs": [
    {
     "output_type": "error",
     "ename": "ValueError",
     "evalue": "setting an array element with a sequence.",
     "traceback": [
      "\u001b[0;31m---------------------------------------------------------------------------\u001b[0m",
      "\u001b[0;31mTypeError\u001b[0m                                 Traceback (most recent call last)",
      "\u001b[0;31mTypeError\u001b[0m: float() argument must be a string or a number, not 'list'",
      "\nThe above exception was the direct cause of the following exception:\n",
      "\u001b[0;31mValueError\u001b[0m                                Traceback (most recent call last)",
      "\u001b[0;32m<ipython-input-49-bce978dbe718>\u001b[0m in \u001b[0;36m<module>\u001b[0;34m\u001b[0m\n\u001b[1;32m      2\u001b[0m \u001b[0my\u001b[0m \u001b[0;34m=\u001b[0m \u001b[0mdf\u001b[0m\u001b[0;34m.\u001b[0m\u001b[0mtarget_cantidad_likes\u001b[0m\u001b[0;34m.\u001b[0m\u001b[0mvalues\u001b[0m\u001b[0;34m\u001b[0m\u001b[0;34m\u001b[0m\u001b[0m\n\u001b[1;32m      3\u001b[0m \u001b[0mescalador\u001b[0m \u001b[0;34m=\u001b[0m \u001b[0mStandardScaler\u001b[0m\u001b[0;34m(\u001b[0m\u001b[0;34m)\u001b[0m\u001b[0;34m\u001b[0m\u001b[0;34m\u001b[0m\u001b[0m\n\u001b[0;32m----> 4\u001b[0;31m \u001b[0mx_norm\u001b[0m \u001b[0;34m=\u001b[0m \u001b[0mescalador\u001b[0m\u001b[0;34m.\u001b[0m\u001b[0mfit_transform\u001b[0m\u001b[0;34m(\u001b[0m\u001b[0mx\u001b[0m\u001b[0;34m)\u001b[0m\u001b[0;34m\u001b[0m\u001b[0;34m\u001b[0m\u001b[0m\n\u001b[0m\u001b[1;32m      5\u001b[0m \u001b[0mx_norm\u001b[0m\u001b[0;34m\u001b[0m\u001b[0;34m\u001b[0m\u001b[0m\n",
      "\u001b[0;32m~/anaconda3/lib/python3.7/site-packages/sklearn/base.py\u001b[0m in \u001b[0;36mfit_transform\u001b[0;34m(self, X, y, **fit_params)\u001b[0m\n\u001b[1;32m    569\u001b[0m         \u001b[0;32mif\u001b[0m \u001b[0my\u001b[0m \u001b[0;32mis\u001b[0m \u001b[0;32mNone\u001b[0m\u001b[0;34m:\u001b[0m\u001b[0;34m\u001b[0m\u001b[0;34m\u001b[0m\u001b[0m\n\u001b[1;32m    570\u001b[0m             \u001b[0;31m# fit method of arity 1 (unsupervised transformation)\u001b[0m\u001b[0;34m\u001b[0m\u001b[0;34m\u001b[0m\u001b[0;34m\u001b[0m\u001b[0m\n\u001b[0;32m--> 571\u001b[0;31m             \u001b[0;32mreturn\u001b[0m \u001b[0mself\u001b[0m\u001b[0;34m.\u001b[0m\u001b[0mfit\u001b[0m\u001b[0;34m(\u001b[0m\u001b[0mX\u001b[0m\u001b[0;34m,\u001b[0m \u001b[0;34m**\u001b[0m\u001b[0mfit_params\u001b[0m\u001b[0;34m)\u001b[0m\u001b[0;34m.\u001b[0m\u001b[0mtransform\u001b[0m\u001b[0;34m(\u001b[0m\u001b[0mX\u001b[0m\u001b[0;34m)\u001b[0m\u001b[0;34m\u001b[0m\u001b[0;34m\u001b[0m\u001b[0m\n\u001b[0m\u001b[1;32m    572\u001b[0m         \u001b[0;32melse\u001b[0m\u001b[0;34m:\u001b[0m\u001b[0;34m\u001b[0m\u001b[0;34m\u001b[0m\u001b[0m\n\u001b[1;32m    573\u001b[0m             \u001b[0;31m# fit method of arity 2 (supervised transformation)\u001b[0m\u001b[0;34m\u001b[0m\u001b[0;34m\u001b[0m\u001b[0;34m\u001b[0m\u001b[0m\n",
      "\u001b[0;32m~/anaconda3/lib/python3.7/site-packages/sklearn/preprocessing/_data.py\u001b[0m in \u001b[0;36mfit\u001b[0;34m(self, X, y)\u001b[0m\n\u001b[1;32m    667\u001b[0m         \u001b[0;31m# Reset internal state before fitting\u001b[0m\u001b[0;34m\u001b[0m\u001b[0;34m\u001b[0m\u001b[0;34m\u001b[0m\u001b[0m\n\u001b[1;32m    668\u001b[0m         \u001b[0mself\u001b[0m\u001b[0;34m.\u001b[0m\u001b[0m_reset\u001b[0m\u001b[0;34m(\u001b[0m\u001b[0;34m)\u001b[0m\u001b[0;34m\u001b[0m\u001b[0;34m\u001b[0m\u001b[0m\n\u001b[0;32m--> 669\u001b[0;31m         \u001b[0;32mreturn\u001b[0m \u001b[0mself\u001b[0m\u001b[0;34m.\u001b[0m\u001b[0mpartial_fit\u001b[0m\u001b[0;34m(\u001b[0m\u001b[0mX\u001b[0m\u001b[0;34m,\u001b[0m \u001b[0my\u001b[0m\u001b[0;34m)\u001b[0m\u001b[0;34m\u001b[0m\u001b[0;34m\u001b[0m\u001b[0m\n\u001b[0m\u001b[1;32m    670\u001b[0m \u001b[0;34m\u001b[0m\u001b[0m\n\u001b[1;32m    671\u001b[0m     \u001b[0;32mdef\u001b[0m \u001b[0mpartial_fit\u001b[0m\u001b[0;34m(\u001b[0m\u001b[0mself\u001b[0m\u001b[0;34m,\u001b[0m \u001b[0mX\u001b[0m\u001b[0;34m,\u001b[0m \u001b[0my\u001b[0m\u001b[0;34m=\u001b[0m\u001b[0;32mNone\u001b[0m\u001b[0;34m)\u001b[0m\u001b[0;34m:\u001b[0m\u001b[0;34m\u001b[0m\u001b[0;34m\u001b[0m\u001b[0m\n",
      "\u001b[0;32m~/anaconda3/lib/python3.7/site-packages/sklearn/preprocessing/_data.py\u001b[0m in \u001b[0;36mpartial_fit\u001b[0;34m(self, X, y)\u001b[0m\n\u001b[1;32m    698\u001b[0m         X = check_array(X, accept_sparse=('csr', 'csc'),\n\u001b[1;32m    699\u001b[0m                         \u001b[0mestimator\u001b[0m\u001b[0;34m=\u001b[0m\u001b[0mself\u001b[0m\u001b[0;34m,\u001b[0m \u001b[0mdtype\u001b[0m\u001b[0;34m=\u001b[0m\u001b[0mFLOAT_DTYPES\u001b[0m\u001b[0;34m,\u001b[0m\u001b[0;34m\u001b[0m\u001b[0;34m\u001b[0m\u001b[0m\n\u001b[0;32m--> 700\u001b[0;31m                         force_all_finite='allow-nan')\n\u001b[0m\u001b[1;32m    701\u001b[0m \u001b[0;34m\u001b[0m\u001b[0m\n\u001b[1;32m    702\u001b[0m         \u001b[0;31m# Even in the case of `with_mean=False`, we update the mean anyway\u001b[0m\u001b[0;34m\u001b[0m\u001b[0;34m\u001b[0m\u001b[0;34m\u001b[0m\u001b[0m\n",
      "\u001b[0;32m~/anaconda3/lib/python3.7/site-packages/sklearn/utils/validation.py\u001b[0m in \u001b[0;36mcheck_array\u001b[0;34m(array, accept_sparse, accept_large_sparse, dtype, order, copy, force_all_finite, ensure_2d, allow_nd, ensure_min_samples, ensure_min_features, warn_on_dtype, estimator)\u001b[0m\n\u001b[1;32m    529\u001b[0m                     \u001b[0marray\u001b[0m \u001b[0;34m=\u001b[0m \u001b[0marray\u001b[0m\u001b[0;34m.\u001b[0m\u001b[0mastype\u001b[0m\u001b[0;34m(\u001b[0m\u001b[0mdtype\u001b[0m\u001b[0;34m,\u001b[0m \u001b[0mcasting\u001b[0m\u001b[0;34m=\u001b[0m\u001b[0;34m\"unsafe\"\u001b[0m\u001b[0;34m,\u001b[0m \u001b[0mcopy\u001b[0m\u001b[0;34m=\u001b[0m\u001b[0;32mFalse\u001b[0m\u001b[0;34m)\u001b[0m\u001b[0;34m\u001b[0m\u001b[0;34m\u001b[0m\u001b[0m\n\u001b[1;32m    530\u001b[0m                 \u001b[0;32melse\u001b[0m\u001b[0;34m:\u001b[0m\u001b[0;34m\u001b[0m\u001b[0;34m\u001b[0m\u001b[0m\n\u001b[0;32m--> 531\u001b[0;31m                     \u001b[0marray\u001b[0m \u001b[0;34m=\u001b[0m \u001b[0mnp\u001b[0m\u001b[0;34m.\u001b[0m\u001b[0masarray\u001b[0m\u001b[0;34m(\u001b[0m\u001b[0marray\u001b[0m\u001b[0;34m,\u001b[0m \u001b[0morder\u001b[0m\u001b[0;34m=\u001b[0m\u001b[0morder\u001b[0m\u001b[0;34m,\u001b[0m \u001b[0mdtype\u001b[0m\u001b[0;34m=\u001b[0m\u001b[0mdtype\u001b[0m\u001b[0;34m)\u001b[0m\u001b[0;34m\u001b[0m\u001b[0;34m\u001b[0m\u001b[0m\n\u001b[0m\u001b[1;32m    532\u001b[0m             \u001b[0;32mexcept\u001b[0m \u001b[0mComplexWarning\u001b[0m\u001b[0;34m:\u001b[0m\u001b[0;34m\u001b[0m\u001b[0;34m\u001b[0m\u001b[0m\n\u001b[1;32m    533\u001b[0m                 raise ValueError(\"Complex data not supported\\n\"\n",
      "\u001b[0;32m~/anaconda3/lib/python3.7/site-packages/numpy/core/_asarray.py\u001b[0m in \u001b[0;36masarray\u001b[0;34m(a, dtype, order)\u001b[0m\n\u001b[1;32m     83\u001b[0m \u001b[0;34m\u001b[0m\u001b[0m\n\u001b[1;32m     84\u001b[0m     \"\"\"\n\u001b[0;32m---> 85\u001b[0;31m     \u001b[0;32mreturn\u001b[0m \u001b[0marray\u001b[0m\u001b[0;34m(\u001b[0m\u001b[0ma\u001b[0m\u001b[0;34m,\u001b[0m \u001b[0mdtype\u001b[0m\u001b[0;34m,\u001b[0m \u001b[0mcopy\u001b[0m\u001b[0;34m=\u001b[0m\u001b[0;32mFalse\u001b[0m\u001b[0;34m,\u001b[0m \u001b[0morder\u001b[0m\u001b[0;34m=\u001b[0m\u001b[0morder\u001b[0m\u001b[0;34m)\u001b[0m\u001b[0;34m\u001b[0m\u001b[0;34m\u001b[0m\u001b[0m\n\u001b[0m\u001b[1;32m     86\u001b[0m \u001b[0;34m\u001b[0m\u001b[0m\n\u001b[1;32m     87\u001b[0m \u001b[0;34m\u001b[0m\u001b[0m\n",
      "\u001b[0;31mValueError\u001b[0m: setting an array element with a sequence."
     ]
    }
   ],
   "source": [
    "x = df.values[:,:-1]\n",
    "y = df.target_cantidad_likes.values\n",
    "escalador = StandardScaler()\n",
    "x_norm = escalador.fit_transform(x)\n",
    "x_norm"
   ]
  }
 ]
}